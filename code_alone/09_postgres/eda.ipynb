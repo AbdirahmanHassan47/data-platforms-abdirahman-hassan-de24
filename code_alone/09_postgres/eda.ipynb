{
 "cells": [
  {
   "cell_type": "code",
   "execution_count": null,
   "metadata": {},
   "outputs": [
    {
     "data": {
      "text/plain": [
       "hello\n"
      ]
     },
     "metadata": {},
     "output_type": "display_data"
    }
   ],
   "source": [
    "print(\"hello\")"
   ]
  },
  {
   "cell_type": "code",
   "execution_count": null,
   "metadata": {},
   "outputs": [
    {
     "data": {
      "text/plain": [
       "Traceback (most recent call last):\n",
       "  File \"c:\\Users\\Brukare\\.vscode\\extensions\\ms-python.python-2024.22.2-win32-x64\\python_files\\python_server.py\", line 133, in exec_user_input\n",
       "    retval = callable_(user_input, user_globals)\n",
       "             ^^^^^^^^^^^^^^^^^^^^^^^^^^^^^^^^^^^\n",
       "  File \"<string>\", line 13, in <module>\n",
       "  File \"<string>\", line 2, in create_engine\n",
       "  File \"C:\\Users\\Brukare\\Desktop\\github\\data-platforms-abdirahman-hassan-de24\\.venv\\Lib\\site-packages\\sqlalchemy\\util\\deprecations.py\", line 281, in warned\n",
       "    return fn(*args, **kwargs)  # type: ignore[no-any-return]\n",
       "           ^^^^^^^^^^^^^^^^^^^\n",
       "  File \"C:\\Users\\Brukare\\Desktop\\github\\data-platforms-abdirahman-hassan-de24\\.venv\\Lib\\site-packages\\sqlalchemy\\engine\\create.py\", line 549, in create_engine\n",
       "    u = _url.make_url(url)\n",
       "        ^^^^^^^^^^^^^^^^^^\n",
       "  File \"C:\\Users\\Brukare\\Desktop\\github\\data-platforms-abdirahman-hassan-de24\\.venv\\Lib\\site-packages\\sqlalchemy\\engine\\url.py\", line 856, in make_url\n",
       "    return _parse_url(name_or_url)\n",
       "           ^^^^^^^^^^^^^^^^^^^^^^^\n",
       "  File \"C:\\Users\\Brukare\\Desktop\\github\\data-platforms-abdirahman-hassan-de24\\.venv\\Lib\\site-packages\\sqlalchemy\\engine\\url.py\", line 917, in _parse_url\n",
       "    components[\"port\"] = int(components[\"port\"])\n",
       "                         ^^^^^^^^^^^^^^^^^^^^^^^\n",
       "ValueError: invalid literal for int() with base 10: 'None'\n",
       "\n"
      ]
     },
     "metadata": {},
     "output_type": "display_data"
    }
   ],
   "source": [
    "from sqlalchemy import create_engine\n",
    "from dotenv import load_dotenv\n",
    "import os\n",
    "\n",
    "load_dotenv()\n",
    "\n",
    "db_host = os.getenv(\"POSTGRES_HOST\")\n",
    "db_user = os.getenv(\"POSTGRES_USER\")\n",
    "db_port = os.getenv(\"POSTGRES_PORT\")\n",
    "db_password = os.getenv(\"POSTGRES_PASSWORD\")\n",
    "db_name = os.getenv(\"POSTGRES_DB\")\n",
    "\n",
    "postgres_connection = create_engine(\n",
    "    f\"postgresql+psycopg2://{db_user}:{db_password}@{db_host}:{db_port}/{db_name}\"\n",
    ")\n",
    "\n",
    "postgres_connection"
   ]
  },
  {
   "cell_type": "code",
   "execution_count": null,
   "metadata": {},
   "outputs": [
    {
     "data": {
      "text/plain": [
       "Traceback (most recent call last):\n",
       "  File \"c:\\Users\\Brukare\\.vscode\\extensions\\ms-python.python-2024.22.2-win32-x64\\python_files\\python_server.py\", line 133, in exec_user_input\n",
       "    retval = callable_(user_input, user_globals)\n",
       "             ^^^^^^^^^^^^^^^^^^^^^^^^^^^^^^^^^^^\n",
       "  File \"<string>\", line 3, in <module>\n",
       "  File \"C:\\Users\\Brukare\\Desktop\\github\\data-platforms-abdirahman-hassan-de24\\.venv\\Lib\\site-packages\\pandas\\io\\excel\\_base.py\", line 495, in read_excel\n",
       "    io = ExcelFile(\n",
       "         ^^^^^^^^^^\n",
       "  File \"C:\\Users\\Brukare\\Desktop\\github\\data-platforms-abdirahman-hassan-de24\\.venv\\Lib\\site-packages\\pandas\\io\\excel\\_base.py\", line 1550, in __init__\n",
       "    ext = inspect_excel_format(\n",
       "          ^^^^^^^^^^^^^^^^^^^^^\n",
       "  File \"C:\\Users\\Brukare\\Desktop\\github\\data-platforms-abdirahman-hassan-de24\\.venv\\Lib\\site-packages\\pandas\\io\\excel\\_base.py\", line 1402, in inspect_excel_format\n",
       "    with get_handle(\n",
       "         ^^^^^^^^^^^\n",
       "  File \"C:\\Users\\Brukare\\Desktop\\github\\data-platforms-abdirahman-hassan-de24\\.venv\\Lib\\site-packages\\pandas\\io\\common.py\", line 882, in get_handle\n",
       "    handle = open(handle, ioargs.mode)\n",
       "             ^^^^^^^^^^^^^^^^^^^^^^^^^\n",
       "FileNotFoundError: [Errno 2] No such file or directory: 'resultat-ansokningsomgang-2024'\n",
       "\n"
      ]
     },
     "metadata": {},
     "output_type": "display_data"
    }
   ],
   "source": [
    "import pandas as pd\n",
    "\n",
    "df = pd.read_excel(\"resultat-ansokningsomgang-2024\", sheet_name=\"Tabell 3\", skiprows=5)\n",
    "\n",
    "print(df)\n",
    "\n",
    "df.head()"
   ]
  }
 ],
 "metadata": {
  "language_info": {
   "name": "python"
  }
 },
 "nbformat": 4,
 "nbformat_minor": 2
}
