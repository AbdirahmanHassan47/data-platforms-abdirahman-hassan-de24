{
 "cells": [
  {
   "cell_type": "code",
   "execution_count": 5,
   "metadata": {},
   "outputs": [
    {
     "name": "stdout",
     "output_type": "stream",
     "text": [
      "hi\n"
     ]
    }
   ],
   "source": [
    "print(\"hi\")"
   ]
  },
  {
   "cell_type": "code",
   "execution_count": 6,
   "metadata": {},
   "outputs": [
    {
     "name": "stdout",
     "output_type": "stream",
     "text": [
      "niga\n"
     ]
    }
   ],
   "source": [
    "print(\"niga\")"
   ]
  },
  {
   "cell_type": "code",
   "execution_count": 7,
   "metadata": {},
   "outputs": [
    {
     "name": "stdout",
     "output_type": "stream",
     "text": [
      "12\n"
     ]
    }
   ],
   "source": [
    "age = 6\n",
    "print(age * 2)"
   ]
  },
  {
   "cell_type": "code",
   "execution_count": 9,
   "metadata": {},
   "outputs": [
    {
     "name": "stdout",
     "output_type": "stream",
     "text": [
      "i like niggas\n"
     ]
    }
   ],
   "source": [
    "x = input()\n",
    "print(\"i like\", x)"
   ]
  },
  {
   "cell_type": "code",
   "execution_count": 18,
   "metadata": {},
   "outputs": [
    {
     "data": {
      "text/plain": [
       "[1, 'hello', True, 23, False]"
      ]
     },
     "execution_count": 18,
     "metadata": {},
     "output_type": "execute_result"
    }
   ],
   "source": [
    "lista = [1,\"hello\",True,23,False]\n",
    "lista[::]\n"
   ]
  },
  {
   "cell_type": "code",
   "execution_count": 23,
   "metadata": {},
   "outputs": [
    {
     "name": "stdout",
     "output_type": "stream",
     "text": [
      "nigga\n"
     ]
    }
   ],
   "source": [
    "x = 12\n",
    "if x < 6:\n",
    "    print(\"hi\")\n",
    "elif x > 3:\n",
    "    print(\"nigga\")\n",
    "else:\n",
    "    print(\"fuck you\")"
   ]
  },
  {
   "cell_type": "code",
   "execution_count": 26,
   "metadata": {},
   "outputs": [],
   "source": [
    "x = 5\n",
    "while x < 3:\n",
    "    print(\"hi\")\n",
    "    x += 1\n",
    "    \n",
    "\n"
   ]
  },
  {
   "cell_type": "code",
   "execution_count": 29,
   "metadata": {},
   "outputs": [
    {
     "data": {
      "text/plain": [
       "('Kokchun', 32.8, 1, True)"
      ]
     },
     "execution_count": 29,
     "metadata": {},
     "output_type": "execute_result"
    }
   ],
   "source": [
    "name = \"Kokchun\"\n",
    "age = 32.8\n",
    "number_of_children = 1\n",
    "loves_math = True\n",
    "\n",
    "\"\"\"\n",
    "this gives a tuple as output\n",
    "note that the last statement in a jupyter notebook cell is printed out, \n",
    "this is not the case for Python scripts\n",
    "\"\"\"\n",
    "\n",
    "name, age, number_of_children, loves_math"
   ]
  },
  {
   "cell_type": "code",
   "execution_count": 30,
   "metadata": {},
   "outputs": [
    {
     "name": "stdout",
     "output_type": "stream",
     "text": [
      "positive prediction for the disease with probability 0.8\n"
     ]
    }
   ],
   "source": [
    "predicted_probability = 0.8\n",
    "\n",
    "if predicted_probability > 0.5:\n",
    "    # convention for prediction variable is y_pred\n",
    "    # 1 for positive and 0 for negative\n",
    "    y_pred = 1\n",
    "else:\n",
    "    y_pred = 0\n",
    "\n",
    "# one line if-else statement\n",
    "prediction = \"positive\" if y_pred else \"negative\"\n",
    "\n",
    "print(\n",
    "    f\"{prediction} prediction for the disease with probability {predicted_probability}\"\n",
    ")"
   ]
  },
  {
   "cell_type": "code",
   "execution_count": 32,
   "metadata": {},
   "outputs": [
    {
     "name": "stdout",
     "output_type": "stream",
     "text": [
      "the accuracy of your model is 0.3 and the performance is bad\n"
     ]
    }
   ],
   "source": [
    "accuracy = float(input(\"give your models accuracy\"))\n",
    "\n",
    "if accuracy > .9:\n",
    "    model_performanace = \"Good\"\n",
    "elif accuracy > .7:\n",
    "    model_performanace = \"Moderate\"\n",
    "else:\n",
    "    model_performanace = \"Bad\"\n",
    "\n",
    "print(f\"the accuracy of your model is {accuracy} and the performance is {model_performanace.lower()}\")"
   ]
  },
  {
   "cell_type": "code",
   "execution_count": 33,
   "metadata": {},
   "outputs": [
    {
     "name": "stdout",
     "output_type": "stream",
     "text": [
      "hi your name is abdi and you are 22 years old\n"
     ]
    }
   ],
   "source": [
    "name = input()\n",
    "age = input()\n",
    "print(f\"hi your name is {name} and you are {age} years old\")"
   ]
  },
  {
   "cell_type": "code",
   "execution_count": 34,
   "metadata": {},
   "outputs": [
    {
     "name": "stdout",
     "output_type": "stream",
     "text": [
      "Year 0 there were 80000 birds\n",
      "Year 1 there were 40000 birds\n",
      "Year 2 there were 20000 birds\n",
      "Year 3 there were 10000 birds\n",
      "It takes 4 years for the birds to have 1/10 remaining\n"
     ]
    }
   ],
   "source": [
    "birds = 80000\n",
    "year = 0\n",
    "\n",
    "while birds > 8000:\n",
    "    print(f\"Year {year} there were {birds:.0f} birds\") \n",
    "    birds /= 2 # divide by half \n",
    "    year += 1\n",
    "\n",
    "print(f\"It takes {year} years for the birds to have 1/10 remaining\")"
   ]
  },
  {
   "cell_type": "code",
   "execution_count": null,
   "metadata": {},
   "outputs": [
    {
     "name": "stdout",
     "output_type": "stream",
     "text": [
      "you are to young vote SORRY\n",
      "you can vote\n",
      "you are to young vote SORRY\n",
      "you are to young vote SORRY\n",
      "you are to young vote SORRY\n",
      "you can vote\n"
     ]
    },
    {
     "ename": "ValueError",
     "evalue": "invalid literal for int() with base 10: 's'",
     "output_type": "error",
     "traceback": [
      "\u001b[1;31m---------------------------------------------------------------------------\u001b[0m",
      "\u001b[1;31mValueError\u001b[0m                                Traceback (most recent call last)",
      "Cell \u001b[1;32mIn[10], line 2\u001b[0m\n\u001b[0;32m      1\u001b[0m \u001b[38;5;28;01mwhile\u001b[39;00m \u001b[38;5;28;01mTrue\u001b[39;00m: \n\u001b[1;32m----> 2\u001b[0m     age \u001b[38;5;241m=\u001b[39m \u001b[38;5;28;43mint\u001b[39;49m\u001b[43m(\u001b[49m\u001b[38;5;28;43minput\u001b[39;49m\u001b[43m(\u001b[49m\u001b[38;5;124;43m\"\u001b[39;49m\u001b[38;5;124;43mwhats your age\u001b[39;49m\u001b[38;5;124;43m\"\u001b[39;49m\u001b[43m)\u001b[49m\u001b[43m)\u001b[49m\n\u001b[0;32m      3\u001b[0m     \u001b[38;5;28;01mif\u001b[39;00m age \u001b[38;5;241m>\u001b[39m \u001b[38;5;241m18\u001b[39m:\n\u001b[0;32m      4\u001b[0m         \u001b[38;5;28mprint\u001b[39m(\u001b[38;5;124m\"\u001b[39m\u001b[38;5;124myou can vote\u001b[39m\u001b[38;5;124m\"\u001b[39m)\n",
      "\u001b[1;31mValueError\u001b[0m: invalid literal for int() with base 10: 's'"
     ]
    }
   ],
   "source": [
    "while True: \n",
    "    age = int(input(\"whats your age\"))\n",
    "    if age > 18:\n",
    "        print(\"you can vote\")\n",
    "    elif age < 18:\n",
    "        print(\"you are to young vote SORRY\")\n",
    "    else:\n",
    "        print(\"invalid answer try again\")\n",
    "\n",
    "    "
   ]
  },
  {
   "cell_type": "code",
   "execution_count": 11,
   "metadata": {},
   "outputs": [
    {
     "data": {
      "text/plain": [
       "7"
      ]
     },
     "execution_count": 11,
     "metadata": {},
     "output_type": "execute_result"
    }
   ],
   "source": [
    "def hej(x,y):\n",
    "    return x + y\n",
    "\n",
    "hej(2,5)"
   ]
  }
 ],
 "metadata": {
  "kernelspec": {
   "display_name": ".venv",
   "language": "python",
   "name": "python3"
  },
  "language_info": {
   "codemirror_mode": {
    "name": "ipython",
    "version": 3
   },
   "file_extension": ".py",
   "mimetype": "text/x-python",
   "name": "python",
   "nbconvert_exporter": "python",
   "pygments_lexer": "ipython3",
   "version": "3.12.3"
  }
 },
 "nbformat": 4,
 "nbformat_minor": 2
}
